{
  "nbformat": 4,
  "nbformat_minor": 0,
  "metadata": {
    "colab": {
      "provenance": [],
      "authorship_tag": "ABX9TyMER6Wk11o4hf3WqM1eyikr",
      "include_colab_link": true
    },
    "kernelspec": {
      "name": "python3",
      "display_name": "Python 3"
    },
    "language_info": {
      "name": "python"
    }
  },
  "cells": [
    {
      "cell_type": "markdown",
      "metadata": {
        "id": "view-in-github",
        "colab_type": "text"
      },
      "source": [
        "<a href=\"https://colab.research.google.com/github/Amruth2503/Agentic-AI/blob/master/Pydantic.ipynb\" target=\"_parent\"><img src=\"https://colab.research.google.com/assets/colab-badge.svg\" alt=\"Open In Colab\"/></a>"
      ]
    },
    {
      "cell_type": "markdown",
      "source": [
        "# **PYDANTIC**"
      ],
      "metadata": {
        "id": "vNGW2qAB9AyB"
      }
    },
    {
      "cell_type": "markdown",
      "source": [
        "## Key Features of Pydantic"
      ],
      "metadata": {
        "id": "Xrrb1DiT9UmX"
      }
    },
    {
      "cell_type": "markdown",
      "source": [
        "\n",
        "\n",
        "*   **Type Validation**: Automatically validates data based on type annotations.\n",
        "\n",
        "*   **Data Parsing**: Converts input data into Python objects with the correct types.\n",
        "\n",
        "*   **Error Handling**: Provides clear and detailed error messages for invalid data.\n",
        "\n",
        "*   **Field Validators**: Allows custom validation logic with the @field_validator decorator.\n",
        "\n",
        "*   **Performance**: Pydantic is optimized for speed and supports optional Cython extensions for even faster performance.\n",
        "\n",
        "*   **Integration**: Easily integrates with popular frameworks like FastAPI, Django, Flask and ORMs like SQLAlchemy.\n",
        "\n",
        "\n",
        "\n",
        "\n",
        "\n"
      ],
      "metadata": {
        "id": "l3bEPn6a9cpi"
      }
    },
    {
      "cell_type": "markdown",
      "source": [
        "###Installing Pydantic"
      ],
      "metadata": {
        "id": "O1vQkpdzr9um"
      }
    },
    {
      "cell_type": "code",
      "execution_count": null,
      "metadata": {
        "colab": {
          "base_uri": "https://localhost:8080/"
        },
        "id": "ZUywRupDr4bF",
        "outputId": "ffe03aa7-fc8d-4a39-9d69-42eb02ad6e63"
      },
      "outputs": [
        {
          "output_type": "stream",
          "name": "stdout",
          "text": [
            "Requirement already satisfied: pydantic in /usr/local/lib/python3.11/dist-packages (2.11.3)\n",
            "Requirement already satisfied: annotated-types>=0.6.0 in /usr/local/lib/python3.11/dist-packages (from pydantic) (0.7.0)\n",
            "Requirement already satisfied: pydantic-core==2.33.1 in /usr/local/lib/python3.11/dist-packages (from pydantic) (2.33.1)\n",
            "Requirement already satisfied: typing-extensions>=4.12.2 in /usr/local/lib/python3.11/dist-packages (from pydantic) (4.13.2)\n",
            "Requirement already satisfied: typing-inspection>=0.4.0 in /usr/local/lib/python3.11/dist-packages (from pydantic) (0.4.0)\n"
          ]
        }
      ],
      "source": [
        "pip install pydantic"
      ]
    },
    {
      "cell_type": "markdown",
      "source": [
        "##1 - Understanding Models in Pydantic"
      ],
      "metadata": {
        "id": "jOOUt-W6sHFR"
      }
    },
    {
      "cell_type": "code",
      "source": [
        "from pydantic import BaseModel"
      ],
      "metadata": {
        "id": "aEw2TiK9r6fi"
      },
      "execution_count": null,
      "outputs": []
    },
    {
      "cell_type": "markdown",
      "source": [
        "####1.1 - Defining a Basic Pydantic Model\n"
      ],
      "metadata": {
        "id": "hztUGPYpst5u"
      }
    },
    {
      "cell_type": "code",
      "source": [
        "class Emp(BaseModel):\n",
        "    eno: int\n",
        "    ename: str\n",
        "    esal: float\n",
        "\n",
        "emp1 = Emp(eno=1,ename=\"Amruth\",esal=10000)\n",
        "print(emp1)"
      ],
      "metadata": {
        "colab": {
          "base_uri": "https://localhost:8080/"
        },
        "id": "6tKwT1GSsK0H",
        "outputId": "6c76cac5-3f23-4649-9fda-974c23c2ee6a"
      },
      "execution_count": null,
      "outputs": [
        {
          "output_type": "stream",
          "name": "stdout",
          "text": [
            "eno=1 ename='Amruth' esal=10000.0\n"
          ]
        }
      ]
    },
    {
      "cell_type": "markdown",
      "source": [
        "####1.2 - Working with Model Attributes"
      ],
      "metadata": {
        "id": "QBQa52Pus3g5"
      }
    },
    {
      "cell_type": "code",
      "source": [
        "print(\"Emp Name : \",emp1.ename)\n",
        "\n",
        "emp1.esal = 12000\n",
        "\n",
        "print(\"Emp salary : \",emp1.esal)"
      ],
      "metadata": {
        "colab": {
          "base_uri": "https://localhost:8080/"
        },
        "id": "H3saSghEsVrf",
        "outputId": "1c6eaab8-6cd7-4a48-d7b0-20c8b2e9de1b"
      },
      "execution_count": null,
      "outputs": [
        {
          "output_type": "stream",
          "name": "stdout",
          "text": [
            "Emp Name :  Amruth\n",
            "Emp salary :  12000\n"
          ]
        }
      ]
    },
    {
      "cell_type": "markdown",
      "source": [
        "####1.3 - Handling Default Values and Required Fields"
      ],
      "metadata": {
        "id": "wO6pewdttJL9"
      }
    },
    {
      "cell_type": "code",
      "source": [
        "class Emp(BaseModel):\n",
        "    eno: int\n",
        "    ename: str\n",
        "    esal: float = 100000.0\n",
        "\n",
        "emp1 = Emp(eno=1,ename=\"Amruth\",esal=10200)\n",
        "emp2 = Emp(eno=2,ename=\"Kavin\")\n",
        "print(emp1)\n",
        "print(emp2)"
      ],
      "metadata": {
        "colab": {
          "base_uri": "https://localhost:8080/"
        },
        "id": "r3mTauOksmiI",
        "outputId": "3e10e71c-4b04-4878-9089-928c4c4af7e2"
      },
      "execution_count": null,
      "outputs": [
        {
          "output_type": "stream",
          "name": "stdout",
          "text": [
            "eno=1 ename='Amruth' esal=10200.0\n",
            "eno=2 ename='Kavin' esal=100000.0\n"
          ]
        }
      ]
    },
    {
      "cell_type": "markdown",
      "source": [
        "##2 - Advanced Validation Techniques"
      ],
      "metadata": {
        "id": "2mrxhcYcyPtQ"
      }
    },
    {
      "cell_type": "markdown",
      "source": [
        "####2.1. Field Validators (@validator Decorator)"
      ],
      "metadata": {
        "id": "IAxgRX36yW_A"
      }
    },
    {
      "cell_type": "code",
      "source": [
        "from pydantic import BaseModel, field_validator\n",
        "\n",
        "class Emp(BaseModel):\n",
        "  eno: int\n",
        "  ename: str\n",
        "  esal: float\n",
        "\n",
        "  @field_validator('esal')\n",
        "  def check_sal(cls, value):\n",
        "    if value < 0:\n",
        "      raise ValueError(\"Salary must be positive\")\n",
        "    return value\n",
        "\n",
        "#Emp(eno=1,ename=\"Amruth\",esal=-1)\n",
        "\n",
        "Emp(eno=1,ename=\"Amruth\",esal=1)"
      ],
      "metadata": {
        "colab": {
          "base_uri": "https://localhost:8080/"
        },
        "id": "fiNawtQatbaB",
        "outputId": "b7223904-868f-4be2-993f-0aac428a54ef"
      },
      "execution_count": null,
      "outputs": [
        {
          "output_type": "execute_result",
          "data": {
            "text/plain": [
              "Emp(eno=1, ename='Amruth', esal=1.0)"
            ]
          },
          "metadata": {},
          "execution_count": 24
        }
      ]
    },
    {
      "cell_type": "markdown",
      "source": [
        "####2.2. Nested Models and Complex Data Structures"
      ],
      "metadata": {
        "id": "wR-cuBC70HJV"
      }
    },
    {
      "cell_type": "code",
      "source": [
        "class Emp(BaseModel):\n",
        "  eno: int\n",
        "  ename: str\n",
        "\n",
        "\n",
        "class proj(BaseModel):\n",
        "  team: str\n",
        "  emp: Emp\n",
        "\n",
        "Emp = Emp(eno=1,ename=\"Amruth\")\n",
        "\n",
        "proj = proj(team=\"Dev\",emp=Emp)\n",
        "print(proj)"
      ],
      "metadata": {
        "colab": {
          "base_uri": "https://localhost:8080/"
        },
        "id": "J91ogp8dzKJI",
        "outputId": "b20b47ae-2920-4e7d-8e81-353ccd43aeda"
      },
      "execution_count": null,
      "outputs": [
        {
          "output_type": "stream",
          "name": "stdout",
          "text": [
            "team='Dev' emp=Emp(eno=1, ename='Amruth')\n"
          ]
        }
      ]
    },
    {
      "cell_type": "markdown",
      "source": [
        "##3 - Data Parsing and Serialization"
      ],
      "metadata": {
        "id": "MwvNul4A5x0P"
      }
    },
    {
      "cell_type": "markdown",
      "source": [
        "####3.1 - Parsing Data from JSON and Other Formats"
      ],
      "metadata": {
        "id": "mqesh1hR55-5"
      }
    },
    {
      "cell_type": "code",
      "source": [
        "class Emp(BaseModel):\n",
        "  eno: int\n",
        "  ename: str\n",
        "  esal: float\n",
        "\n",
        "data = '{\"eno\":1,\"ename\":\"Amruth\",\"esal\":10000}'\n",
        "\n",
        "Emp1 = Emp.model_validate_json(data)\n",
        "print(Emp1)"
      ],
      "metadata": {
        "colab": {
          "base_uri": "https://localhost:8080/"
        },
        "id": "bH8b6vbi52Yg",
        "outputId": "2506560e-d1ed-41ad-c5d9-4802acf66a00"
      },
      "execution_count": null,
      "outputs": [
        {
          "output_type": "stream",
          "name": "stdout",
          "text": [
            "eno=1 ename='Amruth' esal=10000.0\n"
          ]
        }
      ]
    },
    {
      "cell_type": "markdown",
      "source": [
        "####3.2 - Serializing Models to JSON"
      ],
      "metadata": {
        "id": "-dIpPOYC8Tke"
      }
    },
    {
      "cell_type": "code",
      "source": [
        "from pydantic import BaseModel\n",
        "import json\n",
        "\n",
        "class Emp(BaseModel):\n",
        "  eno: int\n",
        "  ename: str\n",
        "  esal: float\n",
        "\n",
        "Emp1 = Emp(eno=1,ename=\"Amruth\",esal=10000)\n",
        "\n",
        "json_data = emp1.model_dump_json()\n",
        "\n",
        "print(json_data)"
      ],
      "metadata": {
        "colab": {
          "base_uri": "https://localhost:8080/"
        },
        "id": "o6dcfkNy7L5r",
        "outputId": "d8335dfc-d372-4b8e-c6a3-18ab1a7b2ca9"
      },
      "execution_count": null,
      "outputs": [
        {
          "output_type": "stream",
          "name": "stdout",
          "text": [
            "{\"eno\":1,\"ename\":\"Amruth\",\"esal\":10200.0}\n"
          ]
        }
      ]
    },
    {
      "cell_type": "markdown",
      "source": [
        "####3.3 - Handling Optional and Nullable Fields"
      ],
      "metadata": {
        "id": "v6NGgRCk8sAA"
      }
    },
    {
      "cell_type": "code",
      "source": [
        "from typing import Optional\n",
        "from pydantic import BaseModel\n",
        "\n",
        "class Emp(BaseModel):\n",
        "  eno: int\n",
        "  ename: str\n",
        "  esal: Optional[float] = None\n",
        "\n",
        "Emp1 = Emp(eno=1,ename=\"Amruth\")\n",
        "print(Emp1)"
      ],
      "metadata": {
        "colab": {
          "base_uri": "https://localhost:8080/"
        },
        "id": "7KU8iD2f8lUs",
        "outputId": "95b7130c-30ab-45a9-dceb-6babfcbfb078"
      },
      "execution_count": null,
      "outputs": [
        {
          "output_type": "stream",
          "name": "stdout",
          "text": [
            "eno=1 ename='Amruth' esal=None\n"
          ]
        }
      ]
    }
  ]
}